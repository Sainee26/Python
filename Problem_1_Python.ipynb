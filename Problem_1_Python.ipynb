{
 "cells": [
  {
   "cell_type": "markdown",
   "id": "2563aab1",
   "metadata": {},
   "source": [
    "# Basic sales tax is applicable at a rate of 10% on all goods, except books, food, and medical products that are exempt. Import duty is an additional sales tax applicable on all imported goods at a rate of 5%, with no exemptions. \n",
    "\n",
    "# When I purchase items I receive a receipt which lists the name of all the items and their price (including tax), finishing with the total cost of the items, and the total amounts of sales taxes paid. The rounding rules for sales tax are that for a tax rate of n%, a shelf price of p contains (np/100 rounded up to the nearest 0.05) amount of sales tax. "
   ]
  },
  {
   "cell_type": "markdown",
   "id": "e75b1bef",
   "metadata": {},
   "source": [
    "## Task: Write an application in Python that prints out the receipt details for these shopping baskets. "
   ]
  },
  {
   "cell_type": "markdown",
   "id": "4a977902",
   "metadata": {},
   "source": [
    "### a) Input 1:\n",
    "\n",
    "#### 1 book at 12.49 \n",
    "\n",
    "#### 1 music CD at 14.99\n",
    "\n",
    "#### 1 chocolate bar at 0.85"
   ]
  },
  {
   "cell_type": "code",
   "execution_count": 34,
   "id": "6319e0a7",
   "metadata": {},
   "outputs": [],
   "source": [
    "import numpy as np"
   ]
  },
  {
   "cell_type": "code",
   "execution_count": 35,
   "id": "c5cfc4cd",
   "metadata": {},
   "outputs": [],
   "source": [
    "class Problem(object):\n",
    "  def create_map(self,string):\n",
    "    quantity=list()\n",
    "    product=list()\n",
    "    price=list()\n",
    "    flag=0\n",
    "    string=string.replace(\"\\n\",\" \")\n",
    "    string=string.split(\" \")\n",
    "    for val in string:\n",
    "      if val.isdigit():\n",
    "        quantity.append(val)\n",
    "      elif type(val)==str and val!='at' and flag!=1:\n",
    "        product.append(val)\n",
    "      elif type(val)==str and val=='at' and flag!=1:\n",
    "        flag=1\n",
    "      elif flag==1:\n",
    "        price.append(float(val))\n",
    "        flag=0\n",
    "    #price=float(price)\n",
    "    return quantity,product,price"
   ]
  },
  {
   "cell_type": "code",
   "execution_count": 36,
   "id": "66d6f1f3",
   "metadata": {},
   "outputs": [],
   "source": [
    "class Questions(Problem):\n",
    "  def __init__(self,string):\n",
    "      super().__init__()\n",
    "      self.quantity,self.product,self.price=self.create_map(string)\n",
    "  def print(self):\n",
    "    no_tax=['book','chocolates_bar','packed of headache pills','chocolate_bar']\n",
    "    tax=0\n",
    "    total_price=0\n",
    "    for i in range(len(self.quantity)):\n",
    "      #print(self.quantity[i],self.product[i],self.price[i])\n",
    "      if self.product[i] in no_tax and 'imported' in self.product[i]:\n",
    "        tax+=self.price[i]*0.5\n",
    "        self.price[i]=np.round(self.price[i]+(self.price[i]*0.5),2)\n",
    "      elif self.product[i] not in no_tax and 'imported' in self.product[i]:\n",
    "        self.price[i]=np.round(self.price[i]+(self.price[i]*0.15),2)\n",
    "      elif self.product[i] not in no_tax:\n",
    "        self.price[i]=np.round(self.price[i]+(self.price[i]*0.10),2)\n",
    "      total_price+=self.price[i]\n",
    "      print('{} {}: {}'.format(self.quantity[i],self.product[i],self.price[i]))\n",
    "    print('Sales Taxes: ',tax)\n",
    "    print('Total: ',np.round(total_price,2))"
   ]
  },
  {
   "cell_type": "code",
   "execution_count": 37,
   "id": "0af1b840",
   "metadata": {},
   "outputs": [
    {
     "name": "stdout",
     "output_type": "stream",
     "text": [
      "1 book: 12.49\n",
      "1 music_CD: 16.49\n",
      "1 chocolate_bar: 0.85\n",
      "Sales Taxes:  0\n",
      "Total:  29.83\n"
     ]
    }
   ],
   "source": [
    "str1='1 book at 12.49\\n1 music_CD at 14.99\\n1 chocolate_bar at 0.85'\n",
    "Question1 = Questions(str1)\n",
    "Question1.print()"
   ]
  },
  {
   "cell_type": "markdown",
   "id": "6c06c6a3",
   "metadata": {},
   "source": [
    "### Input 2:\n",
    "\n",
    "#### 1 imported box of chocolates at 10.00 1 imported bottle of perfume at 47.50 "
   ]
  },
  {
   "cell_type": "code",
   "execution_count": 38,
   "id": "de61d307",
   "metadata": {},
   "outputs": [
    {
     "name": "stdout",
     "output_type": "stream",
     "text": [
      "1 imported: 11.5\n",
      "1 box: 52.25\n",
      "Sales Taxes:  0\n",
      "Total:  63.75\n"
     ]
    }
   ],
   "source": [
    "str1='1 imported box of chocolates at 10.00\\n1 imported bottle of perfume at 47.50'\n",
    "Question1 = Questions(str1)\n",
    "Question1.print()"
   ]
  },
  {
   "cell_type": "markdown",
   "id": "6754517f",
   "metadata": {},
   "source": [
    "### Input 3:\n",
    "\n",
    "#### 1 imported bottle of perfume at 27.99 1 bottle of perfume at 18.99\n",
    "\n",
    "#### 1 packet of headache pills at 9.75\n",
    "\n",
    "#### 1 box of imported chocolates at 11.25 "
   ]
  },
  {
   "cell_type": "code",
   "execution_count": 39,
   "id": "81e47694",
   "metadata": {},
   "outputs": [
    {
     "name": "stdout",
     "output_type": "stream",
     "text": [
      "1 imported: 32.19\n",
      "1 bottle: 20.89\n",
      "1 of: 10.72\n",
      "1 perfume: 12.38\n",
      "Sales Taxes:  0\n",
      "Total:  76.18\n"
     ]
    }
   ],
   "source": [
    "str1='1 imported bottle of perfume at 27.99\\n1 bottle of perfume at 18.99\\n1 packet of headache pills at 9.75\\n1 box of imported chocolates at 11.25'\n",
    "Question1 = Questions(str1)\n",
    "Question1.print()"
   ]
  },
  {
   "cell_type": "code",
   "execution_count": null,
   "id": "241cf0ea",
   "metadata": {},
   "outputs": [],
   "source": []
  }
 ],
 "metadata": {
  "kernelspec": {
   "display_name": "Python 3",
   "language": "python",
   "name": "python3"
  },
  "language_info": {
   "codemirror_mode": {
    "name": "ipython",
    "version": 3
   },
   "file_extension": ".py",
   "mimetype": "text/x-python",
   "name": "python",
   "nbconvert_exporter": "python",
   "pygments_lexer": "ipython3",
   "version": "3.8.8"
  }
 },
 "nbformat": 4,
 "nbformat_minor": 5
}
