{
 "cells": [
  {
   "cell_type": "code",
   "execution_count": 1,
   "metadata": {},
   "outputs": [
    {
     "name": "stdout",
     "output_type": "stream",
     "text": [
      "Enter two numbers :Enter first number:5\n",
      "Enter second number:6\n",
      "Enter the operator(+,-,*,/):+\n",
      "\n",
      "5+6=11\n"
     ]
    }
   ],
   "source": [
    "'''Ask 2 numbers from users and store it in num1 and num2\n",
    "Ask user to press 1 for addition,2 for subtraction,3 for multiplication and 4 for division\n",
    "create 4 seperate functions for each operation (i.e. addition,subtraction,multiplication and division)\n",
    "based on number given by user,call that perticular function and print the output'''\n",
    "def add(x,y):\n",
    "    return x+y\n",
    "def sub(x,y):\n",
    "    return x-y\n",
    "def mul(x,y):\n",
    "    return x*y\n",
    "def div(x,y):\n",
    "    return x/y\n",
    "print(\"Enter two numbers :\", end=\"\")\n",
    "num1=int(input(\"Enter first number:\"))\n",
    "num2=int(input(\"Enter second number:\"))\n",
    "print(\"Enter the operator(+,-,*,/):\",end=\"\")\n",
    "ch=input()\n",
    "if ch=='+':\n",
    "    print(\"\\n\"+str(num1)+\"+\"+str(num2)+\"=\"+str(add(num1,num2)))\n",
    "elif ch=='-':\n",
    "        print(\"\\n\"+str(num1)+\"-\"+str(num2)+\"=\"+str(add(num1,num2)))\n",
    "elif ch=='*':\n",
    "        print(\"\\n\"+str(num1)+\"*\"+str(num2)+\"=\"+str(add(num1,num2)))\n",
    "elif ch=='/':\n",
    "        print(\"\\n\"+str(num1)+\"/\"+str(num2)+\"=\"+str(add(num1,num2)))\n",
    "else:\n",
    "    print(\"Invalid operator\")"
   ]
  },
  {
   "cell_type": "code",
   "execution_count": null,
   "metadata": {},
   "outputs": [],
   "source": []
  }
 ],
 "metadata": {
  "kernelspec": {
   "display_name": "Python 3",
   "language": "python",
   "name": "python3"
  },
  "language_info": {
   "codemirror_mode": {
    "name": "ipython",
    "version": 3
   },
   "file_extension": ".py",
   "mimetype": "text/x-python",
   "name": "python",
   "nbconvert_exporter": "python",
   "pygments_lexer": "ipython3",
   "version": "3.7.6"
  }
 },
 "nbformat": 4,
 "nbformat_minor": 4
}
