{
 "cells": [
  {
   "cell_type": "markdown",
   "id": "2563aab1",
   "metadata": {},
   "source": [
    "# Basic sales tax is applicable at a rate of 10% on all goods, except books, food, and medical products that are exempt. Import duty is an additional sales tax applicable on all imported goods at a rate of 5%, with no exemptions. \n",
    "\n",
    "# When I purchase items I receive a receipt which lists the name of all the items and their price (including tax), finishing with the total cost of the items, and the total amounts of sales taxes paid. The rounding rules for sales tax are that for a tax rate of n%, a shelf price of p contains (np/100 rounded up to the nearest 0.05) amount of sales tax. "
   ]
  },
  {
   "cell_type": "markdown",
   "id": "e75b1bef",
   "metadata": {},
   "source": [
    "## Task: Write an application in Python that prints out the receipt details for these shopping baskets. "
   ]
  },
  {
   "cell_type": "markdown",
   "id": "4a977902",
   "metadata": {},
   "source": [
    "### a) Input 1:\n",
    "\n",
    "#### 1 book at 12.49 \n",
    "\n",
    "#### 1 music CD at 14.99\n",
    "\n",
    "#### 1 chocolate bar at 0.85"
   ]
  },
  {
   "cell_type": "markdown",
   "id": "fa6bc660",
   "metadata": {},
   "source": [
    "### Input 2:\n",
    "\n",
    "#### 1 imported box of chocolates at 10.00 1 imported bottle of perfume at 47.50 "
   ]
  },
  {
   "cell_type": "markdown",
   "id": "67b1d14f",
   "metadata": {},
   "source": [
    "### Input 3:\n",
    "\n",
    "#### 1 imported bottle of perfume at 27.99 1 bottle of perfume at 18.99\n",
    "\n",
    "#### 1 packet of headache pills at 9.75\n",
    "\n",
    "#### 1 box of imported chocolates at 11.25 "
   ]
  },
  {
   "cell_type": "code",
   "execution_count": 47,
   "id": "e27b7c06",
   "metadata": {},
   "outputs": [
    {
     "name": "stdout",
     "output_type": "stream",
     "text": [
      "Input:-1\n",
      "1 book at 12.49\n",
      "1 music CD at 14.99\n",
      "1 chocolate bar at 0.85\n",
      "Output:-1\n",
      "1 book : 12.49\n",
      "1 music CD : 16.49\n",
      "1 chocolate bar : 0.85\n",
      "Sales Taxes:  1.5\n",
      "Total:  29.83\n",
      "--------------------------------------------------\n",
      "Input:-2\n",
      "1 imported box of choclates at 10.00\n",
      "1 imported bottle of perfume at 47.50\n",
      "Output:-2\n",
      "1 imported box of choclates : 10.5\n",
      "1 imported bottle of perfume : 54.62\n",
      "Sales Taxes:  7.6\n",
      "Total:  65.12\n",
      "--------------------------------------------------\n",
      "1 imported bottle of perfume at 27.99\n",
      "1 bottle of perfume at 18.99\n",
      "1 packet of headache pills at 9.75\n",
      "1 box of imported choclates at 11.25\n",
      "Output:-2\n",
      "1 imported bottle of perfume : 32.19\n",
      "1 bottle of perfume : 20.89\n",
      "1 packet of headache pills : 9.75\n",
      "1 box of imported choclates : 11.81\n",
      "Sales Taxes:  6.7\n",
      "Total:  74.64\n",
      "--------------------------------------------------\n"
     ]
    }
   ],
   "source": [
    "import numpy as np\n",
    "class Problem(object):\n",
    "  def create_map(self,string):\n",
    "    quantity=list()\n",
    "    product=list()\n",
    "    price=list()\n",
    "    flag=0\n",
    "    string=string.replace(\"\\n\",\" \")\n",
    "    string=string.split(\" \")\n",
    "    new=\"\"\n",
    "    for val in string:\n",
    "      if val.isdigit():\n",
    "        quantity.append(val)\n",
    "      elif type(val)==str and val!='at' and flag!=1:\n",
    "        new=new+val+\" \"\n",
    "      elif type(val)==str and val=='at' and flag!=1:\n",
    "        flag=1\n",
    "      elif flag==1:\n",
    "        price.append(float(val))\n",
    "        product.append(new)\n",
    "        new=\"\"\n",
    "        flag=0\n",
    "    return quantity,product,price\n",
    "class Questions(Problem):\n",
    "  def __init__(self,string):\n",
    "      super().__init__()\n",
    "      self.quantity,self.product,self.price=self.create_map(string)\n",
    "  def print(self):\n",
    "    no_tax=['music CD ','bottle of perfume ']\n",
    "    no_tax_import=['imported box of choclates ','box of imported choclates ']\n",
    "    imported=['imported bottle of perfume ']\n",
    "    tax=0\n",
    "    total_price=0\n",
    "    for i in range(len(self.quantity)):\n",
    "      #print(self.quantity[i],self.product[i],self.price[i])\n",
    "      if self.product[i] in imported:\n",
    "        tax+=self.price[i]*0.15\n",
    "        self.price[i]=np.round(self.price[i]+(self.price[i]*0.15),2)\n",
    "      elif self.product[i] in no_tax_import:\n",
    "        tax+=self.price[i]*0.05\n",
    "        self.price[i]=np.round(self.price[i]+(self.price[i]*0.05),2)\n",
    "      elif self.product[i] in no_tax:\n",
    "        tax+=self.price[i]*0.10\n",
    "        self.price[i]=np.round(self.price[i]+(self.price[i]*0.10),2)\n",
    "      total_price+=self.price[i]\n",
    "      print('{} {}: {}'.format(self.quantity[i],self.product[i],self.price[i]))\n",
    "    tax=np.round(tax,1)\n",
    "    print('Sales Taxes: ',tax)\n",
    "    total_price=np.round(total_price,2)\n",
    "    print('Total: ',total_price)\n",
    "print('Input:-1')\n",
    "str1='1 book at 12.49\\n1 music CD at 14.99\\n1 chocolate bar at 0.85'\n",
    "print(str1)\n",
    "Question1 = Questions(str1)\n",
    "print('Output:-1')\n",
    "Question1.print()\n",
    "print('-'*50)\n",
    "print('Input:-2')\n",
    "str1='1 imported box of choclates at 10.00\\n1 imported bottle of perfume at 47.50'\n",
    "print(str1)\n",
    "Question1 = Questions(str1)\n",
    "print('Output:-2')\n",
    "Question1.print()\n",
    "print('-'*50)\n",
    "str1='1 imported bottle of perfume at 27.99\\n1 bottle of perfume at 18.99\\n1 packet of headache pills at 9.75\\n1 box of imported choclates at 11.25'\n",
    "print(str1)\n",
    "Question1 = Questions(str1)\n",
    "print('Output:-2')\n",
    "Question1.print()\n",
    "print('-'*50)"
   ]
  },
  {
   "cell_type": "code",
   "execution_count": null,
   "id": "3d00804b",
   "metadata": {},
   "outputs": [],
   "source": []
  }
 ],
 "metadata": {
  "kernelspec": {
   "display_name": "Python 3",
   "language": "python",
   "name": "python3"
  },
  "language_info": {
   "codemirror_mode": {
    "name": "ipython",
    "version": 3
   },
   "file_extension": ".py",
   "mimetype": "text/x-python",
   "name": "python",
   "nbconvert_exporter": "python",
   "pygments_lexer": "ipython3",
   "version": "3.8.8"
  }
 },
 "nbformat": 4,
 "nbformat_minor": 5
}
