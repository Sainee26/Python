{
 "cells": [
  {
   "cell_type": "code",
   "execution_count": 1,
   "metadata": {},
   "outputs": [
    {
     "name": "stdout",
     "output_type": "stream",
     "text": [
      "Enter first num: 5\n",
      "Enter second num: 6\n",
      "press 1 for addition,2 for subtraction, 3 for multiplication and 4 for division :4\n",
      "0.8333333333333334\n"
     ]
    }
   ],
   "source": [
    "#ask 2 numbers from users and store it in num1 and num2.\n",
    "#Ask user to press 1 for addition,2 for subtraction, 3 for multiplication and 4 for for division.\n",
    "#Based on number perform math operation.\n",
    "num1=int(input(\"Enter first num: \"))\n",
    "num2=int(input(\"Enter second num: \"))\n",
    "x=int(input(\"press 1 for addition,2 for subtraction, 3 for multiplication and 4 for division :\"))\n",
    "if(x==1):\n",
    "    print(num1+num2)\n",
    "if(x==2):\n",
    "    print(num1-num2)\n",
    "if(x==3):\n",
    "    print(num1*num2)\n",
    "if(x==4):\n",
    "    print(num1/num2)\n",
    "else:\n",
    "    print(\"enter a number in [1,2,3,4]: \")"
   ]
  },
  {
   "cell_type": "code",
   "execution_count": null,
   "metadata": {},
   "outputs": [],
   "source": []
  }
 ],
 "metadata": {
  "kernelspec": {
   "display_name": "Python 3",
   "language": "python",
   "name": "python3"
  },
  "language_info": {
   "codemirror_mode": {
    "name": "ipython",
    "version": 3
   },
   "file_extension": ".py",
   "mimetype": "text/x-python",
   "name": "python",
   "nbconvert_exporter": "python",
   "pygments_lexer": "ipython3",
   "version": "3.7.6"
  }
 },
 "nbformat": 4,
 "nbformat_minor": 4
}
